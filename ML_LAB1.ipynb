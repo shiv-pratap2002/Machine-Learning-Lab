{
 "cells": [
  {
   "cell_type": "markdown",
   "id": "3e8b418a",
   "metadata": {},
   "source": [
    "# ML -  ASSIGNMENT 1 SHIV PRATAP SINGH 200968038 "
   ]
  },
  {
   "cell_type": "code",
   "execution_count": 1,
   "id": "d2142579",
   "metadata": {},
   "outputs": [],
   "source": [
    "import pandas as pd\n",
    "import numpy as np\n"
   ]
  },
  {
   "cell_type": "code",
   "execution_count": 2,
   "id": "f31a8e33",
   "metadata": {},
   "outputs": [],
   "source": [
    "df=pd.read_csv('mtcars.csv')"
   ]
  },
  {
   "cell_type": "code",
   "execution_count": 118,
   "id": "8fa70218",
   "metadata": {},
   "outputs": [
    {
     "data": {
      "text/html": [
       "<div>\n",
       "<style scoped>\n",
       "    .dataframe tbody tr th:only-of-type {\n",
       "        vertical-align: middle;\n",
       "    }\n",
       "\n",
       "    .dataframe tbody tr th {\n",
       "        vertical-align: top;\n",
       "    }\n",
       "\n",
       "    .dataframe thead th {\n",
       "        text-align: right;\n",
       "    }\n",
       "</style>\n",
       "<table border=\"1\" class=\"dataframe\">\n",
       "  <thead>\n",
       "    <tr style=\"text-align: right;\">\n",
       "      <th></th>\n",
       "      <th>model</th>\n",
       "      <th>mpg</th>\n",
       "      <th>cyl</th>\n",
       "      <th>disp</th>\n",
       "      <th>hp</th>\n",
       "      <th>drat</th>\n",
       "      <th>wt</th>\n",
       "      <th>qsec</th>\n",
       "      <th>vs</th>\n",
       "      <th>am</th>\n",
       "      <th>gear</th>\n",
       "      <th>carb</th>\n",
       "    </tr>\n",
       "  </thead>\n",
       "  <tbody>\n",
       "    <tr>\n",
       "      <th>0</th>\n",
       "      <td>Mazda RX4</td>\n",
       "      <td>21.0</td>\n",
       "      <td>6</td>\n",
       "      <td>160.0</td>\n",
       "      <td>110</td>\n",
       "      <td>3.90</td>\n",
       "      <td>2.620</td>\n",
       "      <td>16.46</td>\n",
       "      <td>0</td>\n",
       "      <td>1</td>\n",
       "      <td>4</td>\n",
       "      <td>4</td>\n",
       "    </tr>\n",
       "    <tr>\n",
       "      <th>1</th>\n",
       "      <td>Mazda RX4 Wag</td>\n",
       "      <td>21.0</td>\n",
       "      <td>6</td>\n",
       "      <td>160.0</td>\n",
       "      <td>110</td>\n",
       "      <td>3.90</td>\n",
       "      <td>2.875</td>\n",
       "      <td>17.02</td>\n",
       "      <td>0</td>\n",
       "      <td>1</td>\n",
       "      <td>4</td>\n",
       "      <td>4</td>\n",
       "    </tr>\n",
       "    <tr>\n",
       "      <th>2</th>\n",
       "      <td>Datsun 710</td>\n",
       "      <td>22.8</td>\n",
       "      <td>4</td>\n",
       "      <td>108.0</td>\n",
       "      <td>93</td>\n",
       "      <td>3.85</td>\n",
       "      <td>2.320</td>\n",
       "      <td>18.61</td>\n",
       "      <td>1</td>\n",
       "      <td>1</td>\n",
       "      <td>4</td>\n",
       "      <td>1</td>\n",
       "    </tr>\n",
       "    <tr>\n",
       "      <th>3</th>\n",
       "      <td>Hornet 4 Drive</td>\n",
       "      <td>21.4</td>\n",
       "      <td>6</td>\n",
       "      <td>258.0</td>\n",
       "      <td>110</td>\n",
       "      <td>3.08</td>\n",
       "      <td>3.215</td>\n",
       "      <td>19.44</td>\n",
       "      <td>1</td>\n",
       "      <td>0</td>\n",
       "      <td>3</td>\n",
       "      <td>1</td>\n",
       "    </tr>\n",
       "    <tr>\n",
       "      <th>4</th>\n",
       "      <td>Hornet Sportabout</td>\n",
       "      <td>18.7</td>\n",
       "      <td>8</td>\n",
       "      <td>360.0</td>\n",
       "      <td>175</td>\n",
       "      <td>3.15</td>\n",
       "      <td>3.440</td>\n",
       "      <td>17.02</td>\n",
       "      <td>0</td>\n",
       "      <td>0</td>\n",
       "      <td>3</td>\n",
       "      <td>2</td>\n",
       "    </tr>\n",
       "  </tbody>\n",
       "</table>\n",
       "</div>"
      ],
      "text/plain": [
       "               model   mpg  cyl   disp   hp  drat     wt   qsec  vs  am  gear  \\\n",
       "0          Mazda RX4  21.0    6  160.0  110  3.90  2.620  16.46   0   1     4   \n",
       "1      Mazda RX4 Wag  21.0    6  160.0  110  3.90  2.875  17.02   0   1     4   \n",
       "2         Datsun 710  22.8    4  108.0   93  3.85  2.320  18.61   1   1     4   \n",
       "3     Hornet 4 Drive  21.4    6  258.0  110  3.08  3.215  19.44   1   0     3   \n",
       "4  Hornet Sportabout  18.7    8  360.0  175  3.15  3.440  17.02   0   0     3   \n",
       "\n",
       "   carb  \n",
       "0     4  \n",
       "1     4  \n",
       "2     1  \n",
       "3     1  \n",
       "4     2  "
      ]
     },
     "execution_count": 118,
     "metadata": {},
     "output_type": "execute_result"
    }
   ],
   "source": [
    "df.head()"
   ]
  },
  {
   "cell_type": "markdown",
   "id": "2b2131b6",
   "metadata": {},
   "source": [
    "## 1.Write a user defined function ‘myFnLinReg(x,y)’to perform Simple Linear Regression given one predictor attribute and one response attribute. The function should return the coefficients of the straight line."
   ]
  },
  {
   "cell_type": "code",
   "execution_count": 4,
   "id": "b630734b",
   "metadata": {},
   "outputs": [],
   "source": [
    "X=np.array(df['wt'].values,'float')\n",
    "y=np.array(df['mpg'].values,'float')"
   ]
  },
  {
   "cell_type": "code",
   "execution_count": 5,
   "id": "376bca9d",
   "metadata": {},
   "outputs": [
    {
     "data": {
      "image/png": "[encoded data removed]",
      "text/plain": [
       "<Figure size 432x288 with 1 Axes>"
      ]
     },
     "metadata": {
      "needs_background": "light"
     },
     "output_type": "display_data"
    }
   ],
   "source": [
    "import matplotlib.pyplot as plt\n",
    "plt.plot(X,y,'bo')\n",
    "plt.ylabel('mpg')\n",
    "plt.xlabel('weight')\n",
    "plt.title('MT_Cars')\n",
    "plt.grid()\n",
    "plt.show()\n",
    "#Relationship seems linear"
   ]
  },
  {
   "cell_type": "code",
   "execution_count": 6,
   "id": "21248204",
   "metadata": {},
   "outputs": [],
   "source": [
    "def myFnLinReg(x,y):\n",
    "    x_0 = x.mean()\n",
    "    y_0=y.mean()\n",
    "    a = (((x_0-x)*(y_0-y)).sum())/((x_0-x)**2).sum()\n",
    "    b = y_0-a*x_0\n",
    "    print(f'y = {a}x + {b}')\n",
    "    return a,b"
   ]
  },
  {
   "cell_type": "code",
   "execution_count": 7,
   "id": "7b2ccec0",
   "metadata": {},
   "outputs": [
    {
     "name": "stdout",
     "output_type": "stream",
     "text": [
      "y = -5.344471572722676x + 37.28512616734202\n",
      "X-Coefficient = -5.34447\n",
      "Constant = 37.28513\n"
     ]
    }
   ],
   "source": [
    "a,b = myFnLinReg(df['wt'],df['mpg'])\n",
    "print(f'X-Coefficient = {round(a,5)}')\n",
    "print(f'Constant = {round(b,5)}')"
   ]
  },
  {
   "cell_type": "code",
   "execution_count": 8,
   "id": "94a39677",
   "metadata": {},
   "outputs": [
    {
     "data": {
      "image/png": "[encoded data removed]",
      "text/plain": [
       "<Figure size 432x288 with 1 Axes>"
      ]
     },
     "metadata": {
      "needs_background": "light"
     },
     "output_type": "display_data"
    }
   ],
   "source": [
    "#PLotting scatter plot and our regression line with computed weights over entire dataset\n",
    "x=np.array(df['wt'])\n",
    "y=np.array(df['mpg'].values,'float')\n",
    "plt.plot(x,y,'bo')\n",
    "plt.plot(x,a*x+b,'r',label='RegLine')\n",
    "plt.title('Simple Linear Regression')\n",
    "plt.grid(alpha=.4,linestyle='--')\n",
    "\n",
    "plt.legend()\n",
    "\n",
    "plt.xlabel('Weight')\n",
    "plt.ylabel('MPG')\n",
    "plt.show()"
   ]
  },
  {
   "cell_type": "markdown",
   "id": "ce879f9c",
   "metadata": {},
   "source": [
    "## 2.Use mtcars data set and consider the attributes mpg and weight. Split data into train and test sets (80 %,20%). Put training data set to ‘myFnLinReg(x,y)’ to build a linear regression model to predict mpg given the weight of the car."
   ]
  },
  {
   "cell_type": "code",
   "execution_count": 9,
   "id": "ef359446",
   "metadata": {},
   "outputs": [],
   "source": [
    "from sklearn.model_selection import train_test_split\n",
    "x_train,x_test,y_train,y_test  = train_test_split(x,y,test_size=0.2,random_state=42)"
   ]
  },
  {
   "cell_type": "code",
   "execution_count": 55,
   "id": "d548e5a6",
   "metadata": {},
   "outputs": [
    {
     "data": {
      "text/plain": [
       "(25,)"
      ]
     },
     "execution_count": 55,
     "metadata": {},
     "output_type": "execute_result"
    }
   ],
   "source": [
    "x_train.shape"
   ]
  },
  {
   "cell_type": "code",
   "execution_count": 10,
   "id": "68250a82",
   "metadata": {},
   "outputs": [
    {
     "data": {
      "text/plain": [
       "(7,)"
      ]
     },
     "execution_count": 10,
     "metadata": {},
     "output_type": "execute_result"
    }
   ],
   "source": [
    "y_test.shape"
   ]
  },
  {
   "cell_type": "code",
   "execution_count": 11,
   "id": "6614ef99",
   "metadata": {},
   "outputs": [
    {
     "name": "stdout",
     "output_type": "stream",
     "text": [
      "y = -5.336941400557081x + 36.93731031351841\n"
     ]
    }
   ],
   "source": [
    "a_train,b_train = myFnLinReg(x_train,y_train)"
   ]
  },
  {
   "cell_type": "markdown",
   "id": "0ebb3138",
   "metadata": {},
   "source": [
    "## 3.What is the mpg of a car, whose weight is 5.5?"
   ]
  },
  {
   "cell_type": "code",
   "execution_count": 12,
   "id": "f278f155",
   "metadata": {},
   "outputs": [
    {
     "name": "stdout",
     "output_type": "stream",
     "text": [
      "The mpg of a car whose weight is 5.5 = 7.58413 miles per gallon (rounded off by 5 digits)\n"
     ]
    }
   ],
   "source": [
    "print(f'The mpg of a car whose weight is 5.5 = {round(a_train*5.5+b_train,5)} miles per gallon (rounded off by 5 digits)')"
   ]
  },
  {
   "cell_type": "markdown",
   "id": "a9f4e105",
   "metadata": {},
   "source": [
    "## 4.Compute and print accuracy measures such as RMSE and R2 for the test set. "
   ]
  },
  {
   "cell_type": "code",
   "execution_count": 13,
   "id": "4737510a",
   "metadata": {},
   "outputs": [],
   "source": [
    "def test_metrics(x_test,y_test,a_train,b_train):\n",
    "    y_pred = (a_train*x_test+b_train)\n",
    "    error = (y_test-y_pred)\n",
    "    y_mean = np.mean(y_test)\n",
    "    rsme = np.sqrt((error**2).sum()/y_test.shape[0])\n",
    "    r2 = 1-(error**2).sum()/((y_test-y_mean)**2).sum()\n",
    "    return rsme,r2"
   ]
  },
  {
   "cell_type": "code",
   "execution_count": 14,
   "id": "72015c18",
   "metadata": {},
   "outputs": [
    {
     "name": "stdout",
     "output_type": "stream",
     "text": [
      "RSME = 3.5321361326991405 and R2 = 0.6879761857596272\n"
     ]
    }
   ],
   "source": [
    "rsme,r2 = test_metrics(x_test,y_test,a_train,b_train)\n",
    "print(f'RSME = {rsme} and R2 = {r2}')"
   ]
  },
  {
   "cell_type": "markdown",
   "id": "2fe38689",
   "metadata": {},
   "source": [
    "## 5.Apply the stochastic gradient descent and mini batch gradient descent algorithms to enhance the accuracy and visualize the cost function."
   ]
  },
  {
   "cell_type": "code",
   "execution_count": 15,
   "id": "fe250dc7",
   "metadata": {},
   "outputs": [],
   "source": [
    "X=np.array(df['wt'].values,'float')\n",
    "y=np.array(df['mpg'].values,'float')"
   ]
  },
  {
   "cell_type": "code",
   "execution_count": 16,
   "id": "23a0f34f",
   "metadata": {},
   "outputs": [],
   "source": [
    "X=X.reshape(X.shape[0],1)\n",
    "X = np.hstack([np.ones_like(X),X])\n",
    "y=y.reshape(y.shape[0],1)\n",
    "m = y.shape[0]\n",
    "#hstack numpy function adds a column of 1s this is to get the constant b of linear regression equation-->y=ax+b"
   ]
  },
  {
   "cell_type": "code",
   "execution_count": 17,
   "id": "6be8f61c",
   "metadata": {},
   "outputs": [
    {
     "data": {
      "text/plain": [
       "array([[1.   , 2.62 ],\n",
       "       [1.   , 2.875],\n",
       "       [1.   , 2.32 ],\n",
       "       [1.   , 3.215],\n",
       "       [1.   , 3.44 ],\n",
       "       [1.   , 3.46 ],\n",
       "       [1.   , 3.57 ],\n",
       "       [1.   , 3.19 ],\n",
       "       [1.   , 3.15 ],\n",
       "       [1.   , 3.44 ],\n",
       "       [1.   , 3.44 ],\n",
       "       [1.   , 4.07 ],\n",
       "       [1.   , 3.73 ],\n",
       "       [1.   , 3.78 ],\n",
       "       [1.   , 5.25 ],\n",
       "       [1.   , 5.424],\n",
       "       [1.   , 5.345],\n",
       "       [1.   , 2.2  ],\n",
       "       [1.   , 1.615],\n",
       "       [1.   , 1.835],\n",
       "       [1.   , 2.465],\n",
       "       [1.   , 3.52 ],\n",
       "       [1.   , 3.435],\n",
       "       [1.   , 3.84 ],\n",
       "       [1.   , 3.845],\n",
       "       [1.   , 1.935],\n",
       "       [1.   , 2.14 ],\n",
       "       [1.   , 1.513],\n",
       "       [1.   , 3.17 ],\n",
       "       [1.   , 2.77 ],\n",
       "       [1.   , 3.57 ],\n",
       "       [1.   , 2.78 ]])"
      ]
     },
     "execution_count": 17,
     "metadata": {},
     "output_type": "execute_result"
    }
   ],
   "source": [
    "X"
   ]
  },
  {
   "cell_type": "code",
   "execution_count": 18,
   "id": "7a66980e",
   "metadata": {},
   "outputs": [
    {
     "data": {
      "text/plain": [
       "array([[0.],\n",
       "       [0.]])"
      ]
     },
     "execution_count": 18,
     "metadata": {},
     "output_type": "execute_result"
    }
   ],
   "source": [
    "theta = np.zeros((2,1))\n",
    "theta"
   ]
  },
  {
   "cell_type": "markdown",
   "id": "fcc32ae6",
   "metadata": {},
   "source": [
    "# Stochastic Gradient"
   ]
  },
  {
   "cell_type": "code",
   "execution_count": 28,
   "id": "2b3ec072",
   "metadata": {},
   "outputs": [
    {
     "data": {
      "text/plain": [
       "(array([[-4.68057042],\n",
       "        [34.64801632]]),\n",
       " 11.416844348847551)"
      ]
     },
     "execution_count": 28,
     "metadata": {},
     "output_type": "execute_result"
    }
   ],
   "source": [
    "import random\n",
    "def stoch_gd(x,y,epochs, learning_rate = 0.001):\n",
    "    total_samples = x.shape[0]\n",
    "    cost_list = []\n",
    "    epoch_list = []\n",
    "    \n",
    "    for i in range(epochs):    \n",
    "        random_index = random.randint(0,total_samples-1) # random index from total samples\n",
    "        sample_x = x[random_index]\n",
    "        sample_y = y[random_index]\n",
    "\n",
    "        y_predicted = theta[0][0]*sample_x + theta[1][0]\n",
    "        theta0_grad = -(2/total_samples)*(sample_x*(sample_y-y_predicted))\n",
    "        theta1_grad = -(2/total_samples)*(sample_y-y_predicted)\n",
    "        theta[0][0] = theta[0][0] - learning_rate * theta0_grad\n",
    "        theta[1][0] = theta[1][0] - learning_rate * theta1_grad\n",
    "        \n",
    "        cost = (sample_y-y_predicted)**2\n",
    "        if i%100==0: # at every 100th iteration record the cost and epoch value\n",
    "            cost_list.append(cost)\n",
    "            epoch_list.append(i)\n",
    "        \n",
    "    return theta, cost, cost_list, epoch_list\n",
    "\n",
    "theta, cost_sgd, cost_list_sgd, epoch_list_sgd = stoch_gd(x_train,y_train,20000)\n",
    "theta, cost_sgd"
   ]
  },
  {
   "cell_type": "code",
   "execution_count": 29,
   "id": "8e4bf8ac",
   "metadata": {},
   "outputs": [
    {
     "name": "stdout",
     "output_type": "stream",
     "text": [
      "RSME = 3.66377232239368 and R2 = 0.6642857086562197\n"
     ]
    }
   ],
   "source": [
    "rsme,r2 = test_metrics(x_test,y_test,theta[0][0],theta[1][0])\n",
    "print(f'RSME = {rsme} and R2 = {r2}')"
   ]
  },
  {
   "cell_type": "code",
   "execution_count": 110,
   "id": "02a45e02",
   "metadata": {},
   "outputs": [
    {
     "data": {
      "image/png": "[encoded data removed]",
      "text/plain": [
       "<Figure size 432x288 with 1 Axes>"
      ]
     },
     "metadata": {
      "needs_background": "light"
     },
     "output_type": "display_data"
    }
   ],
   "source": [
    "# fig,ax = plt.sub\n",
    "plt.plot(epoch_list_sgd,cost_list_sgd)\n",
    "\n",
    "plt.show()"
   ]
  },
  {
   "cell_type": "code",
   "execution_count": null,
   "id": "2e4e3576",
   "metadata": {},
   "outputs": [],
   "source": [
    "plt.xlabel(\"epoch\")\n",
    "plt.ylabel(\"cost\")\n",
    "plt.plot(epoch_list_sgd,cost_list_sgd)"
   ]
  },
  {
   "cell_type": "markdown",
   "id": "b88aacd8",
   "metadata": {},
   "source": [
    "# Mini Batch Gradient Descent"
   ]
  },
  {
   "cell_type": "code",
   "execution_count": 104,
   "id": "a414bbbf",
   "metadata": {},
   "outputs": [],
   "source": [
    "# linear regression using \"mini-batch\" gradient descent\n",
    "\n",
    "# function to compute gradient of error function w.r.t. theta\n",
    "def gradient(X, y, theta):\n",
    "    h = np.dot(X, theta) #Hypothesis\n",
    "    grad = np.dot(X.T, (h - y))\n",
    "    return grad\n",
    "\n",
    "def cost(X, y, theta):\n",
    "    h = np.dot(X, theta)\n",
    "    J = (1/2)*np.dot((h - y).transpose(), (h - y))\n",
    "    return J[0]\n",
    "  \n",
    "# function to create a list containing mini-batches\n",
    "def create_mini_batches(X, y, batch_size):\n",
    "    mini_batches = []\n",
    "    data = np.hstack((X, y))\n",
    "    np.random.shuffle(data)\n",
    "    n_minibatches = data.shape[0] // batch_size\n",
    "    i = 0\n",
    "  \n",
    "    for i in range(n_minibatches + 1):\n",
    "        mini_batch = data[i * batch_size:(i + 1)*batch_size, :]\n",
    "        X_mini = mini_batch[:, :-1]\n",
    "        Y_mini = mini_batch[:, -1].reshape((-1, 1))\n",
    "        mini_batches.append((X_mini, Y_mini))\n",
    "    if data.shape[0] % batch_size != 0:\n",
    "        mini_batch = data[i * batch_size:data.shape[0]]\n",
    "        X_mini = mini_batch[:, :-1]\n",
    "        Y_mini = mini_batch[:, -1].reshape((-1, 1))\n",
    "        mini_batches.append((X_mini, Y_mini))\n",
    "    return mini_batches\n",
    "\n",
    "# function to perform mini-batch gradient descent\n",
    "def gradientDescent_Mini(X, y, learning_rate = 0.001, batch_size = 8):\n",
    "    cost_list=[]\n",
    "    theta = np.zeros((2, 1))\n",
    "    epoch_list=[]\n",
    "    max_iters = 10\n",
    "    for itr in range(max_iters):\n",
    "        mini_batches = create_mini_batches(X, y, batch_size)\n",
    "        for mini_batch in mini_batches:\n",
    "            X_mini, y_mini = mini_batch\n",
    "            theta = theta - learning_rate * gradient(X_mini, y_mini, theta)\n",
    "            cost_list.append(cost(X_mini, y_mini, theta))\n",
    "  \n",
    "    return theta, cost_list"
   ]
  },
  {
   "cell_type": "code",
   "execution_count": 71,
   "id": "ec2f9c77",
   "metadata": {},
   "outputs": [],
   "source": [
    "x_train = x_train.reshape(25,1)\n",
    "x_train = np.hstack([np.ones_like(x_train),x_train])\n",
    "theta = np.zeros((2, 1))\n",
    "y_train = y_train.reshape(25,1)"
   ]
  },
  {
   "cell_type": "code",
   "execution_count": 105,
   "id": "6a0173c3",
   "metadata": {},
   "outputs": [],
   "source": [
    "theta, cost_list_mb = gradientDescent_Mini(x_train,y_train)"
   ]
  },
  {
   "cell_type": "code",
   "execution_count": 112,
   "id": "b809d851",
   "metadata": {},
   "outputs": [
    {
     "data": {
      "text/plain": [
       "array([[2.14641353],\n",
       "       [4.64444604]])"
      ]
     },
     "execution_count": 112,
     "metadata": {},
     "output_type": "execute_result"
    }
   ],
   "source": [
    "theta"
   ]
  },
  {
   "cell_type": "code",
   "execution_count": 106,
   "id": "3e97931f",
   "metadata": {},
   "outputs": [
    {
     "data": {
      "text/plain": [
       "[<matplotlib.lines.Line2D at 0x15b2e3abd60>]"
      ]
     },
     "execution_count": 106,
     "metadata": {},
     "output_type": "execute_result"
    },
    {
     "data": {
      "image/png": "[encoded data removed]",
      "text/plain": [
       "<Figure size 432x288 with 1 Axes>"
      ]
     },
     "metadata": {
      "needs_background": "light"
     },
     "output_type": "display_data"
    }
   ],
   "source": [
    "plt.xlabel(\"epoch\")\n",
    "plt.ylabel(\"cost\")\n",
    "plt.plot(cost_list_mb)"
   ]
  },
  {
   "cell_type": "code",
   "execution_count": 111,
   "id": "999048e6",
   "metadata": {},
   "outputs": [
    {
     "name": "stdout",
     "output_type": "stream",
     "text": [
      "RSME = 3.5321361326991405 and R2 = 0.6879761857596272\n"
     ]
    }
   ],
   "source": [
    "rsme,r2 = test_metrics(x_test,y_test,a_train,b_train)\n",
    "print(f'RSME = {rsme} and R2 = {r2}')"
   ]
  },
  {
   "cell_type": "markdown",
   "id": "f2e157b3",
   "metadata": {},
   "source": [
    "# Exercise 2"
   ]
  },
  {
   "cell_type": "markdown",
   "id": "5a36d04c",
   "metadata": {},
   "source": [
    "### 1.Use the boston.csv dataset and determine the best 5 features to predict ‘MEDV'"
   ]
  },
  {
   "cell_type": "code",
   "execution_count": 150,
   "id": "6c49f29d",
   "metadata": {},
   "outputs": [],
   "source": [
    "from sklearn.feature_selection import SelectKBest\n",
    "from sklearn.feature_selection import f_regression"
   ]
  },
  {
   "cell_type": "code",
   "execution_count": 141,
   "id": "58dc2759",
   "metadata": {},
   "outputs": [],
   "source": [
    "df_2 = pd.read_csv('Boston.csv')#Reading data"
   ]
  },
  {
   "cell_type": "code",
   "execution_count": 142,
   "id": "56b9bbc1",
   "metadata": {},
   "outputs": [
    {
     "data": {
      "text/html": [
       "<div>\n",
       "<style scoped>\n",
       "    .dataframe tbody tr th:only-of-type {\n",
       "        vertical-align: middle;\n",
       "    }\n",
       "\n",
       "    .dataframe tbody tr th {\n",
       "        vertical-align: top;\n",
       "    }\n",
       "\n",
       "    .dataframe thead th {\n",
       "        text-align: right;\n",
       "    }\n",
       "</style>\n",
       "<table border=\"1\" class=\"dataframe\">\n",
       "  <thead>\n",
       "    <tr style=\"text-align: right;\">\n",
       "      <th></th>\n",
       "      <th>crim</th>\n",
       "      <th>zn</th>\n",
       "      <th>indus</th>\n",
       "      <th>chas</th>\n",
       "      <th>nox</th>\n",
       "      <th>rm</th>\n",
       "      <th>age</th>\n",
       "      <th>dis</th>\n",
       "      <th>rad</th>\n",
       "      <th>tax</th>\n",
       "      <th>ptratio</th>\n",
       "      <th>black</th>\n",
       "      <th>lstat</th>\n",
       "      <th>medv</th>\n",
       "    </tr>\n",
       "  </thead>\n",
       "  <tbody>\n",
       "    <tr>\n",
       "      <th>0</th>\n",
       "      <td>0.00632</td>\n",
       "      <td>18.0</td>\n",
       "      <td>2.31</td>\n",
       "      <td>0</td>\n",
       "      <td>0.538</td>\n",
       "      <td>6.575</td>\n",
       "      <td>65.2</td>\n",
       "      <td>4.0900</td>\n",
       "      <td>1</td>\n",
       "      <td>296</td>\n",
       "      <td>15.3</td>\n",
       "      <td>396.90</td>\n",
       "      <td>4.98</td>\n",
       "      <td>24.0</td>\n",
       "    </tr>\n",
       "    <tr>\n",
       "      <th>1</th>\n",
       "      <td>0.02731</td>\n",
       "      <td>0.0</td>\n",
       "      <td>7.07</td>\n",
       "      <td>0</td>\n",
       "      <td>0.469</td>\n",
       "      <td>6.421</td>\n",
       "      <td>78.9</td>\n",
       "      <td>4.9671</td>\n",
       "      <td>2</td>\n",
       "      <td>242</td>\n",
       "      <td>17.8</td>\n",
       "      <td>396.90</td>\n",
       "      <td>9.14</td>\n",
       "      <td>21.6</td>\n",
       "    </tr>\n",
       "    <tr>\n",
       "      <th>2</th>\n",
       "      <td>0.02729</td>\n",
       "      <td>0.0</td>\n",
       "      <td>7.07</td>\n",
       "      <td>0</td>\n",
       "      <td>0.469</td>\n",
       "      <td>7.185</td>\n",
       "      <td>61.1</td>\n",
       "      <td>4.9671</td>\n",
       "      <td>2</td>\n",
       "      <td>242</td>\n",
       "      <td>17.8</td>\n",
       "      <td>392.83</td>\n",
       "      <td>4.03</td>\n",
       "      <td>34.7</td>\n",
       "    </tr>\n",
       "    <tr>\n",
       "      <th>3</th>\n",
       "      <td>0.03237</td>\n",
       "      <td>0.0</td>\n",
       "      <td>2.18</td>\n",
       "      <td>0</td>\n",
       "      <td>0.458</td>\n",
       "      <td>6.998</td>\n",
       "      <td>45.8</td>\n",
       "      <td>6.0622</td>\n",
       "      <td>3</td>\n",
       "      <td>222</td>\n",
       "      <td>18.7</td>\n",
       "      <td>394.63</td>\n",
       "      <td>2.94</td>\n",
       "      <td>33.4</td>\n",
       "    </tr>\n",
       "    <tr>\n",
       "      <th>4</th>\n",
       "      <td>0.06905</td>\n",
       "      <td>0.0</td>\n",
       "      <td>2.18</td>\n",
       "      <td>0</td>\n",
       "      <td>0.458</td>\n",
       "      <td>7.147</td>\n",
       "      <td>54.2</td>\n",
       "      <td>6.0622</td>\n",
       "      <td>3</td>\n",
       "      <td>222</td>\n",
       "      <td>18.7</td>\n",
       "      <td>396.90</td>\n",
       "      <td>5.33</td>\n",
       "      <td>36.2</td>\n",
       "    </tr>\n",
       "    <tr>\n",
       "      <th>...</th>\n",
       "      <td>...</td>\n",
       "      <td>...</td>\n",
       "      <td>...</td>\n",
       "      <td>...</td>\n",
       "      <td>...</td>\n",
       "      <td>...</td>\n",
       "      <td>...</td>\n",
       "      <td>...</td>\n",
       "      <td>...</td>\n",
       "      <td>...</td>\n",
       "      <td>...</td>\n",
       "      <td>...</td>\n",
       "      <td>...</td>\n",
       "      <td>...</td>\n",
       "    </tr>\n",
       "    <tr>\n",
       "      <th>501</th>\n",
       "      <td>0.06263</td>\n",
       "      <td>0.0</td>\n",
       "      <td>11.93</td>\n",
       "      <td>0</td>\n",
       "      <td>0.573</td>\n",
       "      <td>6.593</td>\n",
       "      <td>69.1</td>\n",
       "      <td>2.4786</td>\n",
       "      <td>1</td>\n",
       "      <td>273</td>\n",
       "      <td>21.0</td>\n",
       "      <td>391.99</td>\n",
       "      <td>9.67</td>\n",
       "      <td>22.4</td>\n",
       "    </tr>\n",
       "    <tr>\n",
       "      <th>502</th>\n",
       "      <td>0.04527</td>\n",
       "      <td>0.0</td>\n",
       "      <td>11.93</td>\n",
       "      <td>0</td>\n",
       "      <td>0.573</td>\n",
       "      <td>6.120</td>\n",
       "      <td>76.7</td>\n",
       "      <td>2.2875</td>\n",
       "      <td>1</td>\n",
       "      <td>273</td>\n",
       "      <td>21.0</td>\n",
       "      <td>396.90</td>\n",
       "      <td>9.08</td>\n",
       "      <td>20.6</td>\n",
       "    </tr>\n",
       "    <tr>\n",
       "      <th>503</th>\n",
       "      <td>0.06076</td>\n",
       "      <td>0.0</td>\n",
       "      <td>11.93</td>\n",
       "      <td>0</td>\n",
       "      <td>0.573</td>\n",
       "      <td>6.976</td>\n",
       "      <td>91.0</td>\n",
       "      <td>2.1675</td>\n",
       "      <td>1</td>\n",
       "      <td>273</td>\n",
       "      <td>21.0</td>\n",
       "      <td>396.90</td>\n",
       "      <td>5.64</td>\n",
       "      <td>23.9</td>\n",
       "    </tr>\n",
       "    <tr>\n",
       "      <th>504</th>\n",
       "      <td>0.10959</td>\n",
       "      <td>0.0</td>\n",
       "      <td>11.93</td>\n",
       "      <td>0</td>\n",
       "      <td>0.573</td>\n",
       "      <td>6.794</td>\n",
       "      <td>89.3</td>\n",
       "      <td>2.3889</td>\n",
       "      <td>1</td>\n",
       "      <td>273</td>\n",
       "      <td>21.0</td>\n",
       "      <td>393.45</td>\n",
       "      <td>6.48</td>\n",
       "      <td>22.0</td>\n",
       "    </tr>\n",
       "    <tr>\n",
       "      <th>505</th>\n",
       "      <td>0.04741</td>\n",
       "      <td>0.0</td>\n",
       "      <td>11.93</td>\n",
       "      <td>0</td>\n",
       "      <td>0.573</td>\n",
       "      <td>6.030</td>\n",
       "      <td>80.8</td>\n",
       "      <td>2.5050</td>\n",
       "      <td>1</td>\n",
       "      <td>273</td>\n",
       "      <td>21.0</td>\n",
       "      <td>396.90</td>\n",
       "      <td>7.88</td>\n",
       "      <td>11.9</td>\n",
       "    </tr>\n",
       "  </tbody>\n",
       "</table>\n",
       "<p>506 rows × 14 columns</p>\n",
       "</div>"
      ],
      "text/plain": [
       "        crim    zn  indus  chas    nox     rm   age     dis  rad  tax  \\\n",
       "0    0.00632  18.0   2.31     0  0.538  6.575  65.2  4.0900    1  296   \n",
       "1    0.02731   0.0   7.07     0  0.469  6.421  78.9  4.9671    2  242   \n",
       "2    0.02729   0.0   7.07     0  0.469  7.185  61.1  4.9671    2  242   \n",
       "3    0.03237   0.0   2.18     0  0.458  6.998  45.8  6.0622    3  222   \n",
       "4    0.06905   0.0   2.18     0  0.458  7.147  54.2  6.0622    3  222   \n",
       "..       ...   ...    ...   ...    ...    ...   ...     ...  ...  ...   \n",
       "501  0.06263   0.0  11.93     0  0.573  6.593  69.1  2.4786    1  273   \n",
       "502  0.04527   0.0  11.93     0  0.573  6.120  76.7  2.2875    1  273   \n",
       "503  0.06076   0.0  11.93     0  0.573  6.976  91.0  2.1675    1  273   \n",
       "504  0.10959   0.0  11.93     0  0.573  6.794  89.3  2.3889    1  273   \n",
       "505  0.04741   0.0  11.93     0  0.573  6.030  80.8  2.5050    1  273   \n",
       "\n",
       "     ptratio   black  lstat  medv  \n",
       "0       15.3  396.90   4.98  24.0  \n",
       "1       17.8  396.90   9.14  21.6  \n",
       "2       17.8  392.83   4.03  34.7  \n",
       "3       18.7  394.63   2.94  33.4  \n",
       "4       18.7  396.90   5.33  36.2  \n",
       "..       ...     ...    ...   ...  \n",
       "501     21.0  391.99   9.67  22.4  \n",
       "502     21.0  396.90   9.08  20.6  \n",
       "503     21.0  396.90   5.64  23.9  \n",
       "504     21.0  393.45   6.48  22.0  \n",
       "505     21.0  396.90   7.88  11.9  \n",
       "\n",
       "[506 rows x 14 columns]"
      ]
     },
     "execution_count": 142,
     "metadata": {},
     "output_type": "execute_result"
    }
   ],
   "source": [
    "df_2"
   ]
  },
  {
   "cell_type": "code",
   "execution_count": 143,
   "id": "fce69b50",
   "metadata": {},
   "outputs": [
    {
     "name": "stdout",
     "output_type": "stream",
     "text": [
      "<class 'pandas.core.frame.DataFrame'>\n",
      "RangeIndex: 506 entries, 0 to 505\n",
      "Data columns (total 14 columns):\n",
      " #   Column   Non-Null Count  Dtype  \n",
      "---  ------   --------------  -----  \n",
      " 0   crim     506 non-null    float64\n",
      " 1   zn       506 non-null    float64\n",
      " 2   indus    506 non-null    float64\n",
      " 3   chas     506 non-null    int64  \n",
      " 4   nox      506 non-null    float64\n",
      " 5   rm       506 non-null    float64\n",
      " 6   age      506 non-null    float64\n",
      " 7   dis      506 non-null    float64\n",
      " 8   rad      506 non-null    int64  \n",
      " 9   tax      506 non-null    int64  \n",
      " 10  ptratio  506 non-null    float64\n",
      " 11  black    506 non-null    float64\n",
      " 12  lstat    506 non-null    float64\n",
      " 13  medv     506 non-null    float64\n",
      "dtypes: float64(11), int64(3)\n",
      "memory usage: 55.5 KB\n"
     ]
    }
   ],
   "source": [
    "df_2.info()"
   ]
  },
  {
   "cell_type": "code",
   "execution_count": 144,
   "id": "d427155b",
   "metadata": {},
   "outputs": [
    {
     "data": {
      "text/plain": [
       "crim       0\n",
       "zn         0\n",
       "indus      0\n",
       "chas       0\n",
       "nox        0\n",
       "rm         0\n",
       "age        0\n",
       "dis        0\n",
       "rad        0\n",
       "tax        0\n",
       "ptratio    0\n",
       "black      0\n",
       "lstat      0\n",
       "medv       0\n",
       "dtype: int64"
      ]
     },
     "execution_count": 144,
     "metadata": {},
     "output_type": "execute_result"
    }
   ],
   "source": [
    "df_2.isna().sum()"
   ]
  },
  {
   "cell_type": "markdown",
   "id": "8c723a24",
   "metadata": {},
   "source": [
    "### Data Cleaning"
   ]
  },
  {
   "cell_type": "code",
   "execution_count": 145,
   "id": "04f68d2d",
   "metadata": {},
   "outputs": [],
   "source": [
    "X = df_2.drop(columns='medv')\n",
    "y = df_2['medv']"
   ]
  },
  {
   "cell_type": "code",
   "execution_count": 148,
   "id": "19fe84b3",
   "metadata": {},
   "outputs": [
    {
     "data": {
      "text/plain": [
       "<AxesSubplot:>"
      ]
     },
     "execution_count": 148,
     "metadata": {},
     "output_type": "execute_result"
    },
    {
     "data": {
      "image/png": "[encoded data removed]",
      "text/plain": [
       "<Figure size 1080x936 with 2 Axes>"
      ]
     },
     "metadata": {
      "needs_background": "light"
     },
     "output_type": "display_data"
    }
   ],
   "source": [
    "import seaborn as sns\n",
    "df_corr = df_2.corr()\n",
    "fig , ax = plt.subplots(figsize=(15,13))\n",
    "sns.heatmap(data = df_corr,annot = True,cmap=\"YlGnBu\")"
   ]
  },
  {
   "cell_type": "code",
   "execution_count": 149,
   "id": "8072311f",
   "metadata": {},
   "outputs": [],
   "source": [
    "## 'rad' & 'tax' have a high correlation with one another\n",
    "## eliminate 'tax' not rad since it has better correlation than 'tax' with target\n",
    "# (Eliminate features with correlation > 0.90 or < -.90)\n",
    "X.drop(columns='tax',inplace=True)"
   ]
  },
  {
   "cell_type": "code",
   "execution_count": 153,
   "id": "8d5b6ce8",
   "metadata": {},
   "outputs": [],
   "source": [
    "from sklearn.model_selection import train_test_split \n",
    "\n",
    "## perform a train-test split of 80%/20%\n",
    "X_train, X_test, y_train, y_test = train_test_split(X, y, test_size=0.2, random_state=45)"
   ]
  },
  {
   "cell_type": "code",
   "execution_count": 154,
   "id": "eac922e1",
   "metadata": {},
   "outputs": [],
   "source": [
    "## This is regression problem with continuous input and target use select f_regression for 5 features\n",
    "getFeatures = SelectKBest(score_func=f_regression, k=5)\n",
    "\n",
    "## fit the training data to this object of SelectKBest\n",
    "X_new = getFeatures.fit_transform(X_train,y_train)\n",
    "\n",
    "## X_new right now is a 2D numpy array, we need to get a data frame instead\n",
    "## To do that, obtain the data feature list \n",
    "feature_list = X_train.columns[getFeatures.get_support()]"
   ]
  },
  {
   "cell_type": "code",
   "execution_count": 155,
   "id": "f1ee513f",
   "metadata": {},
   "outputs": [
    {
     "data": {
      "text/plain": [
       "Index(['indus', 'nox', 'rm', 'ptratio', 'lstat'], dtype='object')"
      ]
     },
     "execution_count": 155,
     "metadata": {},
     "output_type": "execute_result"
    }
   ],
   "source": [
    "feature_list"
   ]
  },
  {
   "cell_type": "markdown",
   "id": "7eb96209",
   "metadata": {},
   "source": [
    "### 2.Using sklearn.linear_model, find the multiple regression model for the boston.csv dataset using the best 3features.  (from sklearn.linear_model import LinearRegression) "
   ]
  },
  {
   "cell_type": "code",
   "execution_count": 156,
   "id": "f345827e",
   "metadata": {},
   "outputs": [
    {
     "name": "stdout",
     "output_type": "stream",
     "text": [
      "[False False  True False False  True False False False False False  True]\n"
     ]
    },
    {
     "data": {
      "text/html": [
       "<div>\n",
       "<style scoped>\n",
       "    .dataframe tbody tr th:only-of-type {\n",
       "        vertical-align: middle;\n",
       "    }\n",
       "\n",
       "    .dataframe tbody tr th {\n",
       "        vertical-align: top;\n",
       "    }\n",
       "\n",
       "    .dataframe thead th {\n",
       "        text-align: right;\n",
       "    }\n",
       "</style>\n",
       "<table border=\"1\" class=\"dataframe\">\n",
       "  <thead>\n",
       "    <tr style=\"text-align: right;\">\n",
       "      <th></th>\n",
       "      <th>indus</th>\n",
       "      <th>rm</th>\n",
       "      <th>lstat</th>\n",
       "    </tr>\n",
       "  </thead>\n",
       "  <tbody>\n",
       "    <tr>\n",
       "      <th>246</th>\n",
       "      <td>5.86</td>\n",
       "      <td>6.108</td>\n",
       "      <td>9.16</td>\n",
       "    </tr>\n",
       "    <tr>\n",
       "      <th>296</th>\n",
       "      <td>13.92</td>\n",
       "      <td>6.549</td>\n",
       "      <td>7.39</td>\n",
       "    </tr>\n",
       "    <tr>\n",
       "      <th>168</th>\n",
       "      <td>19.58</td>\n",
       "      <td>6.319</td>\n",
       "      <td>11.10</td>\n",
       "    </tr>\n",
       "    <tr>\n",
       "      <th>357</th>\n",
       "      <td>18.10</td>\n",
       "      <td>6.395</td>\n",
       "      <td>13.27</td>\n",
       "    </tr>\n",
       "    <tr>\n",
       "      <th>63</th>\n",
       "      <td>5.13</td>\n",
       "      <td>6.762</td>\n",
       "      <td>9.50</td>\n",
       "    </tr>\n",
       "  </tbody>\n",
       "</table>\n",
       "</div>"
      ],
      "text/plain": [
       "     indus     rm  lstat\n",
       "246   5.86  6.108   9.16\n",
       "296  13.92  6.549   7.39\n",
       "168  19.58  6.319  11.10\n",
       "357  18.10  6.395  13.27\n",
       "63    5.13  6.762   9.50"
      ]
     },
     "execution_count": 156,
     "metadata": {},
     "output_type": "execute_result"
    }
   ],
   "source": [
    "## now for 3 features\n",
    "getFeatures_best3 = SelectKBest(score_func=f_regression, k=3)\n",
    "X_new_best3 = getFeatures_best3.fit_transform(X_train,y_train)\n",
    "\n",
    "## X_new right now is a 2D numpy array, we need to get a data frame instead\n",
    "## To do that, obtain the data feature list \n",
    "feature_list = X_train.columns[getFeatures_best3.get_support()]\n",
    "#getsupport() - returns boolean array, true where feature is selcted otherwise false\n",
    "## now select the new features\n",
    "X_train_new_best3 = X_train.loc[:,getFeatures_best3.get_support()]\n",
    "X_train_new_best3.head()"
   ]
  },
  {
   "cell_type": "code",
   "execution_count": 157,
   "id": "b701c441",
   "metadata": {},
   "outputs": [
    {
     "data": {
      "text/html": [
       "<div>\n",
       "<style scoped>\n",
       "    .dataframe tbody tr th:only-of-type {\n",
       "        vertical-align: middle;\n",
       "    }\n",
       "\n",
       "    .dataframe tbody tr th {\n",
       "        vertical-align: top;\n",
       "    }\n",
       "\n",
       "    .dataframe thead th {\n",
       "        text-align: right;\n",
       "    }\n",
       "</style>\n",
       "<table border=\"1\" class=\"dataframe\">\n",
       "  <thead>\n",
       "    <tr style=\"text-align: right;\">\n",
       "      <th></th>\n",
       "      <th>indus</th>\n",
       "      <th>rm</th>\n",
       "      <th>lstat</th>\n",
       "    </tr>\n",
       "  </thead>\n",
       "  <tbody>\n",
       "    <tr>\n",
       "      <th>48</th>\n",
       "      <td>6.91</td>\n",
       "      <td>5.399</td>\n",
       "      <td>30.81</td>\n",
       "    </tr>\n",
       "    <tr>\n",
       "      <th>64</th>\n",
       "      <td>1.38</td>\n",
       "      <td>7.104</td>\n",
       "      <td>8.05</td>\n",
       "    </tr>\n",
       "    <tr>\n",
       "      <th>473</th>\n",
       "      <td>18.10</td>\n",
       "      <td>6.980</td>\n",
       "      <td>11.66</td>\n",
       "    </tr>\n",
       "    <tr>\n",
       "      <th>485</th>\n",
       "      <td>18.10</td>\n",
       "      <td>6.312</td>\n",
       "      <td>10.58</td>\n",
       "    </tr>\n",
       "    <tr>\n",
       "      <th>228</th>\n",
       "      <td>6.20</td>\n",
       "      <td>7.686</td>\n",
       "      <td>3.92</td>\n",
       "    </tr>\n",
       "  </tbody>\n",
       "</table>\n",
       "</div>"
      ],
      "text/plain": [
       "     indus     rm  lstat\n",
       "48    6.91  5.399  30.81\n",
       "64    1.38  7.104   8.05\n",
       "473  18.10  6.980  11.66\n",
       "485  18.10  6.312  10.58\n",
       "228   6.20  7.686   3.92"
      ]
     },
     "execution_count": 157,
     "metadata": {},
     "output_type": "execute_result"
    }
   ],
   "source": [
    "## do it similarly for test features\n",
    "X_test_new_best3 = X_test.loc[:,getFeatures_best3.get_support()]\n",
    "X_test_new_best3.head()"
   ]
  },
  {
   "cell_type": "code",
   "execution_count": 159,
   "id": "2c8d773a",
   "metadata": {},
   "outputs": [
    {
     "data": {
      "text/plain": [
       "LinearRegression()"
      ]
     },
     "execution_count": 159,
     "metadata": {},
     "output_type": "execute_result"
    }
   ],
   "source": [
    "from sklearn.linear_model import LinearRegression\n",
    "model_3_best = LinearRegression()\n",
    "model_3_best.fit(X_train_new_best3,y_train)#Train with best 3 features"
   ]
  },
  {
   "cell_type": "markdown",
   "id": "5ae32ec9",
   "metadata": {},
   "source": [
    "### 3.Find the accuracy of the model using appropriate metrics using 80, 20 split for training and test."
   ]
  },
  {
   "cell_type": "code",
   "execution_count": 160,
   "id": "6c82fa13",
   "metadata": {},
   "outputs": [
    {
     "data": {
      "text/plain": [
       "0.6490244600124021"
      ]
     },
     "execution_count": 160,
     "metadata": {},
     "output_type": "execute_result"
    }
   ],
   "source": [
    "model_3_best.score(X_test_new_best3,y_test)"
   ]
  },
  {
   "cell_type": "markdown",
   "id": "c8a99112",
   "metadata": {},
   "source": [
    "# THE END"
   ]
  }
 ],
 "metadata": {
  "kernelspec": {
   "display_name": "Python 3 (ipykernel)",
   "language": "python",
   "name": "python3"
  },
  "language_info": {
   "codemirror_mode": {
    "name": "ipython",
    "version": 3
   },
   "file_extension": ".py",
   "mimetype": "text/x-python",
   "name": "python",
   "nbconvert_exporter": "python",
   "pygments_lexer": "ipython3",
   "version": "3.8.5"
  }
 },
 "nbformat": 4,
 "nbformat_minor": 5
}
